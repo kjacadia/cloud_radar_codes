{
 "cells": [
  {
   "cell_type": "code",
   "execution_count": null,
   "id": "5b12e700-8da0-40a3-b796-3282db8ca6c9",
   "metadata": {
    "tags": []
   },
   "outputs": [],
   "source": [
    "import netCDF4\n",
    "import numpy as np\n",
    "import numpy.ma as ma\n",
    "import os\n",
    "import matplotlib.pyplot as plt"
   ]
  },
  {
   "cell_type": "markdown",
   "id": "4d8414b6-2a2f-4305-9482-0168c4671758",
   "metadata": {
    "tags": []
   },
   "source": [
    "Specify a KAZRcfr spectra data file, \"myfile\""
   ]
  },
  {
   "cell_type": "code",
   "execution_count": null,
   "id": "9f992607-6078-45f5-bfff-d71544498ee5",
   "metadata": {},
   "outputs": [],
   "source": [
    "myfile = '/Users/karenjohnson/arm_data/mos/moskazrcfrspcmdcopolM1.a1/moskazrcfrspcmdcopolM1.a1.20200929.080005.nc'"
   ]
  },
  {
   "cell_type": "markdown",
   "id": "70c53aaa-c6dc-4fd8-960f-3b24d9e8580e",
   "metadata": {},
   "source": [
    "Let's open the file and look at the dimensions "
   ]
  },
  {
   "cell_type": "code",
   "execution_count": null,
   "id": "c29643e9-7dc4-4ae5-ac0a-4fbad79504cc",
   "metadata": {},
   "outputs": [],
   "source": [
    "cdf = netCDF4.Dataset(myfile)\n",
    "to = cdf.variables['time'][:]\n",
    "rg = cdf.variables['range'][:]\n",
    "num_times = len(to)\n",
    "num_gates = len(rg)\n",
    "print('Number of time profiles = ', num_times)\n",
    "print('Minimum and maximum ranges are ', rg[0], rg[-1])"
   ]
  },
  {
   "cell_type": "markdown",
   "id": "ebc85a5c-019c-479e-862a-1c546f877346",
   "metadata": {},
   "source": [
    "Set time profile and range min/max values to plot.\n",
    "Optionally, you can also set the contour min, max for the spectrogram \n",
    "(may be best to use defaults for the 'first look')"
   ]
  },
  {
   "cell_type": "code",
   "execution_count": null,
   "id": "0424605e-8cce-4a80-b6a0-7c904f8f4017",
   "metadata": {},
   "outputs": [],
   "source": [
    "time_index_to_plot = 20\n",
    "range_min = 500.\n",
    "range_max = 10000.\n",
    "contour_limits = None\n",
    "#contour_min = -90.\n",
    "#contour_max = -60\n",
    "#contour_limits = [contour_min, contour_max]"
   ]
  },
  {
   "cell_type": "markdown",
   "id": "be07db21-480a-4690-8eb2-b16e521158d2",
   "metadata": {},
   "source": [
    "Read in spectra and other info "
   ]
  },
  {
   "cell_type": "code",
   "execution_count": null,
   "id": "ce12c3d8-17b7-4726-a0fa-ba343f3236c4",
   "metadata": {},
   "outputs": [],
   "source": [
    "justfile = os.path.basename(myfile)\n",
    "dotchunks = justfile.split('.')\n",
    "spcpos = dotchunks[0].find('spc')\n",
    "if spcpos == -1:\n",
    "    print('This code only works for kazrcfrspc files. Sorry!')\n",
    "    raise TypeError(\"Wrong type of data file\")"
   ]
  },
  {
   "cell_type": "markdown",
   "id": "63d2180e-b554-443b-97d7-d6d7dc9f5e25",
   "metadata": {},
   "source": [
    "Extract info from the file name"
   ]
  },
  {
   "cell_type": "code",
   "execution_count": null,
   "id": "eaaebb2f-b167-481d-9aed-0b3c4f36c4fd",
   "metadata": {},
   "outputs": [],
   "source": [
    "thesite = justfile[0:3]\n",
    "facil = dotchunks[0][-2:]\n",
    "facilpos = dotchunks[0].find(facil)\n",
    "yyyymmdd = dotchunks[2]\n",
    "hhmmss = dotchunks[3]\n",
    "mode = dotchunks[0][spcpos+3:spcpos+5]\n",
    "radar = dotchunks[0][3:spcpos]\n",
    "pol = dotchunks[0][spcpos+5:facilpos]"
   ]
  },
  {
   "cell_type": "markdown",
   "id": "0aceec32-a83d-44b2-906b-09924016495f",
   "metadata": {},
   "source": [
    "Read more data from the file itself"
   ]
  },
  {
   "cell_type": "code",
   "execution_count": null,
   "id": "178f8026-ab59-4e54-9c3e-0d030b3b7167",
   "metadata": {},
   "outputs": [],
   "source": [
    "loc = cdf.variables['spectrum_index'][:,:]\n",
    "if pol == 'copol':\n",
    "    spectra = cdf.variables['radar_power_spectrum_of_copolar_h'][:,:]\n",
    "else:\n",
    "    spectra = cdf.variables['radar_power_spectrum_of_crosspolar_v'][:,:]\n",
    " \n",
    "# Determine yquist velocity bins\n",
    "nyqtime = cdf.variables['nyquist_velocity'][:]\n",
    "nfft = cdf.fft_len\n",
    "nyq = nyqtime[0]\n",
    "vdelta = nyq/(nfft/2.)\n",
    "vbins = np.arange(-nyq, nyq, nyq/(nfft/2))\n"
   ]
  },
  {
   "cell_type": "markdown",
   "id": "8eaec191-ccba-4d22-b42a-3db9a13f057b",
   "metadata": {},
   "source": [
    "*** Plotting Spectrogram ***\n",
    "1. Find range gate indices needed for range_min,range_max"
   ]
  },
  {
   "cell_type": "code",
   "execution_count": null,
   "id": "eb3835df-58f7-4a10-887e-34ef75639a74",
   "metadata": {},
   "outputs": [],
   "source": [
    "rb_j = np.argmin(np.abs(rg - range_min))\n",
    "re_j = np.argmin(np.abs(rg - range_max))"
   ]
  },
  {
   "cell_type": "markdown",
   "id": "d58802cc-5575-4157-b7d5-cb1eff873e98",
   "metadata": {},
   "source": [
    "2.  Selecct spectra needed for desired spectorgram time "
   ]
  },
  {
   "cell_type": "code",
   "execution_count": null,
   "id": "a763a790-6f94-49ba-811b-a96e1b5fc2a4",
   "metadata": {},
   "outputs": [],
   "source": [
    "spcy = np.empty((re_j - rb_j + 1, nfft,))\n",
    "spcy[:] = np.NAN\n",
    "for j in range(rb_j, re_j+1):\n",
    "    if(loc[time_index_to_plot, j] is not ma.masked):\n",
    "        spcy[j,:] = spectra[loc[time_index_to_plot, j], :]"
   ]
  },
  {
   "cell_type": "markdown",
   "id": "c72bddd7-975a-4d7c-822a-253cd6f5516d",
   "metadata": {},
   "source": [
    "3.  Check for and fix possible bad spectral value(s) -- This can cause poor countour selections if not corrected"
   ]
  },
  {
   "cell_type": "code",
   "execution_count": null,
   "id": "df80af5b-5886-449e-b3b1-9fe4434958cf",
   "metadata": {},
   "outputs": [],
   "source": [
    "bad_index = np.where(spcy == -32767)\n",
    "if len(spcy[bad_index]) > 0:\n",
    "    spcy[bad_index] = np.nan\n",
    "smin = np.floor(np.nanmin(spcy))\n",
    "smax = np.ceil(np.nanmax(spcy))\n",
    "print('Min and Max of spectra value: ', smin, smax)\n",
    "if contour_limits:\n",
    "    smin, smax = contour_limits\n",
    "print('Contour limits will be: ', smin, smax)"
   ]
  },
  {
   "cell_type": "markdown",
   "id": "1774d663-9ba0-443a-b196-6c04da275432",
   "metadata": {},
   "source": [
    "Construct plot titles and plot spectrogam"
   ]
  },
  {
   "cell_type": "code",
   "execution_count": null,
   "id": "a7844ab5-6803-47de-9aaa-e156cb59798c",
   "metadata": {},
   "outputs": [],
   "source": [
    "str_time = str(round(to[time_index_to_plot]/30., 2))    \n",
    "titlefig = thesite + '.' + facil + ' ' + radar + mode + pol\n",
    "titlestr = yyyymmdd + '.' + hhmmss + ' plus ' + str_time + 'min (index ' + str(time_index_to_plot)+ ')' \n",
    "\n",
    "plt.figure(figsize=[6,8])\n",
    "plt.pcolor(vbins, rg[rb_j:re_j+1], spcy, vmin=smin, vmax=smax)\n",
    "plt.title(titlestr)\n",
    "plt.suptitle(titlefig)\n",
    "plt.xlabel('velocity (m/s)')\n",
    "plt.ylabel('range (m)')\n",
    "plt.ylim([range_min, range_max])\n",
    "\n",
    "plt.colorbar(orientation='vertical',shrink=0.8)\n",
    "plt.show()"
   ]
  }
 ],
 "metadata": {
  "kernelspec": {
   "display_name": "Python 3",
   "language": "python",
   "name": "python3"
  },
  "language_info": {
   "codemirror_mode": {
    "name": "ipython",
    "version": 3
   },
   "file_extension": ".py",
   "mimetype": "text/x-python",
   "name": "python",
   "nbconvert_exporter": "python",
   "pygments_lexer": "ipython3",
   "version": "3.7.10"
  },
  "toc-autonumbering": true,
  "toc-showcode": true,
  "toc-showmarkdowntxt": true,
  "toc-showtags": true
 },
 "nbformat": 4,
 "nbformat_minor": 5
}
